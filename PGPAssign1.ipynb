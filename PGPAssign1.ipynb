{
 "cells": [
  {
   "cell_type": "code",
   "execution_count": 2,
   "id": "42d764ee",
   "metadata": {
    "scrolled": true
   },
   "outputs": [],
   "source": [
    "import tensorflow as tf\n",
    "from tensorflow.keras.datasets import fashion_mnist\n",
    "from sklearn.model_selection import train_test_split"
   ]
  },
  {
   "cell_type": "code",
   "execution_count": 3,
   "id": "1e2ad419",
   "metadata": {},
   "outputs": [
    {
     "name": "stdout",
     "output_type": "stream",
     "text": [
      "Downloading data from https://storage.googleapis.com/tensorflow/tf-keras-datasets/train-labels-idx1-ubyte.gz\n",
      "32768/29515 [=================================] - 0s 3us/step\n",
      "40960/29515 [=========================================] - 0s 2us/step\n",
      "Downloading data from https://storage.googleapis.com/tensorflow/tf-keras-datasets/train-images-idx3-ubyte.gz\n",
      "26427392/26421880 [==============================] - 3s 0us/step\n",
      "26435584/26421880 [==============================] - 3s 0us/step\n",
      "Downloading data from https://storage.googleapis.com/tensorflow/tf-keras-datasets/t10k-labels-idx1-ubyte.gz\n",
      "16384/5148 [===============================================================================================] - 0s 0s/step\n",
      "Downloading data from https://storage.googleapis.com/tensorflow/tf-keras-datasets/t10k-images-idx3-ubyte.gz\n",
      "4423680/4422102 [==============================] - 1s 0us/step\n",
      "4431872/4422102 [==============================] - 1s 0us/step\n"
     ]
    }
   ],
   "source": [
    "# Data Loading Steps\n",
    "fashion_mnist = tf.keras.datasets.fashion_mnist\n",
    "\n",
    "(train_images, train_labels), (test_images, test_labels) = fashion_mnist.load_data()\n",
    "\n",
    "class_names = ['T-shirt/top', 'Trouser', 'Pullover', 'Dress', 'Coat',\n",
    "               'Sandal', 'Shirt', 'Sneaker', 'Bag', 'Ankle boot']"
   ]
  },
  {
   "cell_type": "code",
   "execution_count": 4,
   "id": "b02c0334",
   "metadata": {},
   "outputs": [
    {
     "data": {
      "text/plain": [
       "(60000, 28, 28)"
      ]
     },
     "execution_count": 4,
     "metadata": {},
     "output_type": "execute_result"
    }
   ],
   "source": [
    "train_images.shape"
   ]
  },
  {
   "cell_type": "code",
   "execution_count": 5,
   "id": "0b220961",
   "metadata": {},
   "outputs": [
    {
     "data": {
      "text/plain": [
       "array([9, 0, 0, ..., 3, 0, 5], dtype=uint8)"
      ]
     },
     "execution_count": 5,
     "metadata": {},
     "output_type": "execute_result"
    }
   ],
   "source": [
    "train_labels"
   ]
  },
  {
   "cell_type": "code",
   "execution_count": 6,
   "id": "769ffc92",
   "metadata": {},
   "outputs": [
    {
     "data": {
      "text/plain": [
       "(10000, 28, 28)"
      ]
     },
     "execution_count": 6,
     "metadata": {},
     "output_type": "execute_result"
    }
   ],
   "source": [
    "test_images.shape"
   ]
  },
  {
   "cell_type": "code",
   "execution_count": 8,
   "id": "90f31f5d",
   "metadata": {},
   "outputs": [],
   "source": [
    "X_train = train_images.reshape(60000,28*28)\n",
    "X_test = test_images.reshape(10000,28*28)"
   ]
  },
  {
   "cell_type": "code",
   "execution_count": 9,
   "id": "53cf08f5",
   "metadata": {},
   "outputs": [
    {
     "data": {
      "text/plain": [
       "(60000, 784)"
      ]
     },
     "execution_count": 9,
     "metadata": {},
     "output_type": "execute_result"
    }
   ],
   "source": [
    "X_train.shape"
   ]
  },
  {
   "cell_type": "code",
   "execution_count": 10,
   "id": "6e92e223",
   "metadata": {},
   "outputs": [
    {
     "data": {
      "text/plain": [
       "(10000, 784)"
      ]
     },
     "execution_count": 10,
     "metadata": {},
     "output_type": "execute_result"
    }
   ],
   "source": [
    "X_test.shape"
   ]
  },
  {
   "cell_type": "code",
   "execution_count": 11,
   "id": "d76cf30c",
   "metadata": {},
   "outputs": [
    {
     "data": {
      "text/plain": [
       "255"
      ]
     },
     "execution_count": 11,
     "metadata": {},
     "output_type": "execute_result"
    }
   ],
   "source": [
    "import numpy as np\n",
    "np.max(X_train)"
   ]
  },
  {
   "cell_type": "code",
   "execution_count": 12,
   "id": "5037cf4c",
   "metadata": {},
   "outputs": [
    {
     "data": {
      "text/plain": [
       "(1.0, 0.0)"
      ]
     },
     "execution_count": 12,
     "metadata": {},
     "output_type": "execute_result"
    }
   ],
   "source": [
    "X_train = X_train/255.0\n",
    "X_test = X_test/255.0\n",
    "np.max(X_train) , np.min(X_train)"
   ]
  },
  {
   "cell_type": "code",
   "execution_count": 14,
   "id": "a6bcb4a9",
   "metadata": {},
   "outputs": [
    {
     "data": {
      "image/png": "[encoded data removed]",
      "text/plain": [
       "<Figure size 432x288 with 2 Axes>"
      ]
     },
     "metadata": {
      "needs_background": "light"
     },
     "output_type": "display_data"
    }
   ],
   "source": [
    "import matplotlib.pyplot as plt\n",
    "plt.imshow(X_train[1].reshape(28,28),cmap='gray')\n",
    "plt.title(f\"Label from training data is {train_labels[1]}\")\n",
    "plt.colorbar()\n",
    "plt.show()"
   ]
  },
  {
   "cell_type": "code",
   "execution_count": 15,
   "id": "2c1808ae",
   "metadata": {},
   "outputs": [],
   "source": [
    "y_train = tf.keras.utils.to_categorical(train_labels)\n",
    "y_test = tf.keras.utils.to_categorical(test_labels)"
   ]
  },
  {
   "cell_type": "code",
   "execution_count": 16,
   "id": "939107c1",
   "metadata": {},
   "outputs": [
    {
     "data": {
      "text/plain": [
       "(60000, 10)"
      ]
     },
     "execution_count": 16,
     "metadata": {},
     "output_type": "execute_result"
    }
   ],
   "source": [
    "y_train.shape"
   ]
  },
  {
   "cell_type": "code",
   "execution_count": 17,
   "id": "3a235db3",
   "metadata": {},
   "outputs": [],
   "source": [
    "X_val = X_train[50000:,:]\n",
    "y_val = y_train[50000:,:]\n",
    "X_train = X_train[:50000,:]\n",
    "y_train = y_train[:50000,:]"
   ]
  },
  {
   "cell_type": "code",
   "execution_count": 19,
   "id": "7455aad4",
   "metadata": {},
   "outputs": [],
   "source": [
    "model = tf.keras.Sequential()\n",
    "from tensorflow.keras.layers import Dense\n",
    "model.add(Dense(15, activation=\"relu\",input_shape=[784,]))\n",
    "model.add(Dense(15, activation=\"relu\"))\n",
    "model.add(Dense(12, activation=\"relu\"))\n",
    "model.add(Dense(10,activation='softmax'))"
   ]
  },
  {
   "cell_type": "code",
   "execution_count": 20,
   "id": "e8177c67",
   "metadata": {},
   "outputs": [
    {
     "name": "stdout",
     "output_type": "stream",
     "text": [
      "Model: \"sequential_1\"\n",
      "_________________________________________________________________\n",
      " Layer (type)                Output Shape              Param #   \n",
      "=================================================================\n",
      " dense (Dense)               (None, 15)                11775     \n",
      "                                                                 \n",
      " dense_1 (Dense)             (None, 15)                240       \n",
      "                                                                 \n",
      " dense_2 (Dense)             (None, 12)                192       \n",
      "                                                                 \n",
      " dense_3 (Dense)             (None, 10)                130       \n",
      "                                                                 \n",
      "=================================================================\n",
      "Total params: 12,337\n",
      "Trainable params: 12,337\n",
      "Non-trainable params: 0\n",
      "_________________________________________________________________\n"
     ]
    }
   ],
   "source": [
    "model.summary()"
   ]
  },
  {
   "cell_type": "code",
   "execution_count": 22,
   "id": "aca8fb77",
   "metadata": {},
   "outputs": [],
   "source": [
    "model.compile(optimizer=\"SGD\",\n",
    "              loss = 'categorical_crossentropy',\n",
    "              metrics=['accuracy'])"
   ]
  },
  {
   "cell_type": "code",
   "execution_count": 23,
   "id": "c6bbd16c",
   "metadata": {},
   "outputs": [
    {
     "name": "stdout",
     "output_type": "stream",
     "text": [
      "Epoch 1/100\n",
      "1563/1563 [==============================] - 5s 833us/step - loss: 1.1775 - accuracy: 0.5705 - val_loss: 0.7127 - val_accuracy: 0.7401\n",
      "Epoch 2/100\n",
      "1563/1563 [==============================] - 1s 722us/step - loss: 0.6296 - accuracy: 0.7772 - val_loss: 0.5912 - val_accuracy: 0.7981\n",
      "Epoch 3/100\n",
      "1563/1563 [==============================] - 1s 734us/step - loss: 0.5369 - accuracy: 0.8146 - val_loss: 0.6573 - val_accuracy: 0.7472\n",
      "Epoch 4/100\n",
      "1563/1563 [==============================] - 1s 739us/step - loss: 0.4912 - accuracy: 0.8290 - val_loss: 0.5373 - val_accuracy: 0.8170\n",
      "Epoch 5/100\n",
      "1563/1563 [==============================] - 1s 721us/step - loss: 0.4631 - accuracy: 0.8382 - val_loss: 0.4767 - val_accuracy: 0.8350\n",
      "Epoch 6/100\n",
      "1563/1563 [==============================] - 1s 727us/step - loss: 0.4432 - accuracy: 0.8459 - val_loss: 0.4508 - val_accuracy: 0.8442\n",
      "Epoch 7/100\n",
      "1563/1563 [==============================] - 1s 744us/step - loss: 0.4287 - accuracy: 0.8497 - val_loss: 0.4367 - val_accuracy: 0.8483\n",
      "Epoch 8/100\n",
      "1563/1563 [==============================] - 1s 749us/step - loss: 0.4167 - accuracy: 0.8549 - val_loss: 0.4462 - val_accuracy: 0.8445\n",
      "Epoch 9/100\n",
      "1563/1563 [==============================] - 1s 732us/step - loss: 0.4066 - accuracy: 0.8561 - val_loss: 0.4856 - val_accuracy: 0.8325\n",
      "Epoch 10/100\n",
      "1563/1563 [==============================] - 1s 750us/step - loss: 0.3978 - accuracy: 0.8588 - val_loss: 0.4336 - val_accuracy: 0.8491\n",
      "Epoch 11/100\n",
      "1563/1563 [==============================] - 1s 739us/step - loss: 0.3908 - accuracy: 0.8611 - val_loss: 0.4196 - val_accuracy: 0.8523\n",
      "Epoch 12/100\n",
      "1563/1563 [==============================] - 1s 724us/step - loss: 0.3821 - accuracy: 0.8637 - val_loss: 0.4635 - val_accuracy: 0.8417\n",
      "Epoch 13/100\n",
      "1563/1563 [==============================] - 1s 741us/step - loss: 0.3758 - accuracy: 0.8659 - val_loss: 0.4110 - val_accuracy: 0.8566\n",
      "Epoch 14/100\n",
      "1563/1563 [==============================] - 1s 754us/step - loss: 0.3709 - accuracy: 0.8679 - val_loss: 0.4190 - val_accuracy: 0.8513\n",
      "Epoch 15/100\n",
      "1563/1563 [==============================] - 1s 733us/step - loss: 0.3655 - accuracy: 0.8705 - val_loss: 0.4411 - val_accuracy: 0.8405\n",
      "Epoch 16/100\n",
      "1563/1563 [==============================] - 1s 736us/step - loss: 0.3618 - accuracy: 0.8713 - val_loss: 0.4142 - val_accuracy: 0.8544\n",
      "Epoch 17/100\n",
      "1563/1563 [==============================] - 1s 754us/step - loss: 0.3585 - accuracy: 0.8714 - val_loss: 0.4518 - val_accuracy: 0.8437\n",
      "Epoch 18/100\n",
      "1563/1563 [==============================] - 1s 776us/step - loss: 0.3554 - accuracy: 0.8721 - val_loss: 0.4286 - val_accuracy: 0.8477\n",
      "Epoch 19/100\n",
      "1563/1563 [==============================] - 1s 786us/step - loss: 0.3502 - accuracy: 0.8756 - val_loss: 0.3905 - val_accuracy: 0.8645\n",
      "Epoch 20/100\n",
      "1563/1563 [==============================] - 1s 773us/step - loss: 0.3482 - accuracy: 0.8756 - val_loss: 0.3907 - val_accuracy: 0.8623\n",
      "Epoch 21/100\n",
      "1563/1563 [==============================] - 1s 800us/step - loss: 0.3451 - accuracy: 0.8765 - val_loss: 0.4533 - val_accuracy: 0.8414\n",
      "Epoch 22/100\n",
      "1563/1563 [==============================] - 1s 725us/step - loss: 0.3430 - accuracy: 0.8771 - val_loss: 0.4037 - val_accuracy: 0.8596\n",
      "Epoch 23/100\n",
      "1563/1563 [==============================] - 1s 732us/step - loss: 0.3402 - accuracy: 0.8792 - val_loss: 0.3970 - val_accuracy: 0.8619\n",
      "Epoch 24/100\n",
      "1563/1563 [==============================] - 1s 777us/step - loss: 0.3375 - accuracy: 0.8787 - val_loss: 0.4753 - val_accuracy: 0.8305\n",
      "Epoch 25/100\n",
      "1563/1563 [==============================] - 1s 801us/step - loss: 0.3344 - accuracy: 0.8807 - val_loss: 0.3840 - val_accuracy: 0.8635\n",
      "Epoch 26/100\n",
      "1563/1563 [==============================] - 1s 748us/step - loss: 0.3326 - accuracy: 0.8807 - val_loss: 0.4035 - val_accuracy: 0.8582\n",
      "Epoch 27/100\n",
      "1563/1563 [==============================] - 1s 742us/step - loss: 0.3329 - accuracy: 0.8803 - val_loss: 0.3856 - val_accuracy: 0.8662\n",
      "Epoch 28/100\n",
      "1563/1563 [==============================] - 1s 776us/step - loss: 0.3304 - accuracy: 0.8815 - val_loss: 0.4052 - val_accuracy: 0.8569\n",
      "Epoch 29/100\n",
      "1563/1563 [==============================] - 1s 762us/step - loss: 0.3278 - accuracy: 0.8831 - val_loss: 0.4075 - val_accuracy: 0.8555\n",
      "Epoch 30/100\n",
      "1563/1563 [==============================] - 1s 751us/step - loss: 0.3253 - accuracy: 0.8826 - val_loss: 0.3884 - val_accuracy: 0.8649\n",
      "Epoch 31/100\n",
      "1563/1563 [==============================] - 1s 815us/step - loss: 0.3250 - accuracy: 0.8832 - val_loss: 0.3909 - val_accuracy: 0.8668\n",
      "Epoch 32/100\n",
      "1563/1563 [==============================] - 1s 818us/step - loss: 0.3221 - accuracy: 0.8833 - val_loss: 0.3990 - val_accuracy: 0.8617\n",
      "Epoch 33/100\n",
      "1563/1563 [==============================] - 1s 686us/step - loss: 0.3203 - accuracy: 0.8853 - val_loss: 0.4338 - val_accuracy: 0.8472\n",
      "Epoch 34/100\n",
      "1563/1563 [==============================] - 1s 780us/step - loss: 0.3190 - accuracy: 0.8851 - val_loss: 0.3870 - val_accuracy: 0.8643\n",
      "Epoch 35/100\n",
      "1563/1563 [==============================] - 1s 724us/step - loss: 0.3171 - accuracy: 0.8852 - val_loss: 0.3816 - val_accuracy: 0.8676\n",
      "Epoch 36/100\n",
      "1563/1563 [==============================] - 1s 689us/step - loss: 0.3169 - accuracy: 0.8859 - val_loss: 0.4050 - val_accuracy: 0.8576\n",
      "Epoch 37/100\n",
      "1563/1563 [==============================] - 1s 678us/step - loss: 0.3137 - accuracy: 0.8881 - val_loss: 0.3909 - val_accuracy: 0.8665\n",
      "Epoch 38/100\n",
      "1563/1563 [==============================] - 1s 709us/step - loss: 0.3127 - accuracy: 0.8863 - val_loss: 0.3950 - val_accuracy: 0.8637\n",
      "Epoch 39/100\n",
      "1563/1563 [==============================] - 1s 754us/step - loss: 0.3115 - accuracy: 0.8885 - val_loss: 0.3829 - val_accuracy: 0.8678\n",
      "Epoch 40/100\n",
      "1563/1563 [==============================] - 1s 747us/step - loss: 0.3108 - accuracy: 0.8872 - val_loss: 0.3836 - val_accuracy: 0.8658\n",
      "Epoch 41/100\n",
      "1563/1563 [==============================] - 1s 688us/step - loss: 0.3094 - accuracy: 0.8885 - val_loss: 0.4311 - val_accuracy: 0.8491\n",
      "Epoch 42/100\n",
      "1563/1563 [==============================] - 1s 717us/step - loss: 0.3087 - accuracy: 0.8882 - val_loss: 0.3904 - val_accuracy: 0.8661\n",
      "Epoch 43/100\n",
      "1563/1563 [==============================] - 1s 710us/step - loss: 0.3069 - accuracy: 0.8880 - val_loss: 0.4111 - val_accuracy: 0.8601\n",
      "Epoch 44/100\n",
      "1563/1563 [==============================] - 1s 695us/step - loss: 0.3057 - accuracy: 0.8898 - val_loss: 0.4056 - val_accuracy: 0.8594\n",
      "Epoch 45/100\n",
      "1563/1563 [==============================] - 1s 707us/step - loss: 0.3047 - accuracy: 0.8902 - val_loss: 0.3846 - val_accuracy: 0.8653\n",
      "Epoch 46/100\n",
      "1563/1563 [==============================] - 1s 707us/step - loss: 0.3040 - accuracy: 0.8900 - val_loss: 0.3836 - val_accuracy: 0.8686\n",
      "Epoch 47/100\n",
      "1563/1563 [==============================] - 1s 847us/step - loss: 0.3031 - accuracy: 0.8910 - val_loss: 0.4209 - val_accuracy: 0.8550\n",
      "Epoch 48/100\n",
      "1563/1563 [==============================] - 1s 768us/step - loss: 0.3003 - accuracy: 0.8911 - val_loss: 0.4112 - val_accuracy: 0.8581\n",
      "Epoch 49/100\n",
      "1563/1563 [==============================] - 1s 739us/step - loss: 0.3006 - accuracy: 0.8913 - val_loss: 0.4007 - val_accuracy: 0.8618\n",
      "Epoch 50/100\n",
      "1563/1563 [==============================] - 1s 749us/step - loss: 0.3000 - accuracy: 0.8921 - val_loss: 0.4313 - val_accuracy: 0.8489\n",
      "Epoch 51/100\n",
      "1563/1563 [==============================] - 1s 746us/step - loss: 0.2986 - accuracy: 0.8916 - val_loss: 0.4291 - val_accuracy: 0.8534\n",
      "Epoch 52/100\n",
      "1563/1563 [==============================] - 1s 768us/step - loss: 0.2979 - accuracy: 0.8922 - val_loss: 0.3979 - val_accuracy: 0.8617\n",
      "Epoch 53/100\n",
      "1563/1563 [==============================] - 1s 754us/step - loss: 0.2969 - accuracy: 0.8925 - val_loss: 0.4002 - val_accuracy: 0.8622\n",
      "Epoch 54/100\n",
      "1563/1563 [==============================] - 1s 759us/step - loss: 0.2957 - accuracy: 0.8940 - val_loss: 0.3921 - val_accuracy: 0.8684\n",
      "Epoch 55/100\n",
      "1563/1563 [==============================] - 1s 754us/step - loss: 0.2946 - accuracy: 0.8937 - val_loss: 0.4003 - val_accuracy: 0.8602\n",
      "Epoch 56/100\n"
     ]
    },
    {
     "name": "stdout",
     "output_type": "stream",
     "text": [
      "1563/1563 [==============================] - 1s 727us/step - loss: 0.2937 - accuracy: 0.8944 - val_loss: 0.4271 - val_accuracy: 0.8508\n",
      "Epoch 57/100\n",
      "1563/1563 [==============================] - 1s 730us/step - loss: 0.2936 - accuracy: 0.8953 - val_loss: 0.3893 - val_accuracy: 0.8686\n",
      "Epoch 58/100\n",
      "1563/1563 [==============================] - 1s 717us/step - loss: 0.2924 - accuracy: 0.8932 - val_loss: 0.4164 - val_accuracy: 0.8606\n",
      "Epoch 59/100\n",
      "1563/1563 [==============================] - 1s 756us/step - loss: 0.2913 - accuracy: 0.8950 - val_loss: 0.4051 - val_accuracy: 0.8618\n",
      "Epoch 60/100\n",
      "1563/1563 [==============================] - 1s 746us/step - loss: 0.2902 - accuracy: 0.8951 - val_loss: 0.3905 - val_accuracy: 0.8679\n",
      "Epoch 61/100\n",
      "1563/1563 [==============================] - 1s 731us/step - loss: 0.2891 - accuracy: 0.8962 - val_loss: 0.4030 - val_accuracy: 0.8632\n",
      "Epoch 62/100\n",
      "1563/1563 [==============================] - 1s 724us/step - loss: 0.2899 - accuracy: 0.8962 - val_loss: 0.4105 - val_accuracy: 0.8625\n",
      "Epoch 63/100\n",
      "1563/1563 [==============================] - 1s 720us/step - loss: 0.2881 - accuracy: 0.8942 - val_loss: 0.3998 - val_accuracy: 0.8629\n",
      "Epoch 64/100\n",
      "1563/1563 [==============================] - 1s 722us/step - loss: 0.2871 - accuracy: 0.8963 - val_loss: 0.4140 - val_accuracy: 0.8619\n",
      "Epoch 65/100\n",
      "1563/1563 [==============================] - 1s 720us/step - loss: 0.2865 - accuracy: 0.8958 - val_loss: 0.4822 - val_accuracy: 0.8362\n",
      "Epoch 66/100\n",
      "1563/1563 [==============================] - 1s 736us/step - loss: 0.2860 - accuracy: 0.8964 - val_loss: 0.4101 - val_accuracy: 0.8596\n",
      "Epoch 67/100\n",
      "1563/1563 [==============================] - 1s 727us/step - loss: 0.2845 - accuracy: 0.8975 - val_loss: 0.4159 - val_accuracy: 0.8619\n",
      "Epoch 68/100\n",
      "1563/1563 [==============================] - 1s 768us/step - loss: 0.2847 - accuracy: 0.8982 - val_loss: 0.4111 - val_accuracy: 0.8628\n",
      "Epoch 69/100\n",
      "1563/1563 [==============================] - 1s 790us/step - loss: 0.2822 - accuracy: 0.8978 - val_loss: 0.3986 - val_accuracy: 0.8650\n",
      "Epoch 70/100\n",
      "1563/1563 [==============================] - 1s 736us/step - loss: 0.2832 - accuracy: 0.8966 - val_loss: 0.4068 - val_accuracy: 0.8613\n",
      "Epoch 71/100\n",
      "1563/1563 [==============================] - 1s 737us/step - loss: 0.2817 - accuracy: 0.8985 - val_loss: 0.4069 - val_accuracy: 0.8638\n",
      "Epoch 72/100\n",
      "1563/1563 [==============================] - 1s 770us/step - loss: 0.2810 - accuracy: 0.8994 - val_loss: 0.4161 - val_accuracy: 0.8629\n",
      "Epoch 73/100\n",
      "1563/1563 [==============================] - 1s 771us/step - loss: 0.2808 - accuracy: 0.8980 - val_loss: 0.4031 - val_accuracy: 0.8652\n",
      "Epoch 74/100\n",
      "1563/1563 [==============================] - 1s 776us/step - loss: 0.2804 - accuracy: 0.8974 - val_loss: 0.3993 - val_accuracy: 0.8679\n",
      "Epoch 75/100\n",
      "1563/1563 [==============================] - 1s 775us/step - loss: 0.2809 - accuracy: 0.8984 - val_loss: 0.4130 - val_accuracy: 0.8594\n",
      "Epoch 76/100\n",
      "1563/1563 [==============================] - 1s 749us/step - loss: 0.2789 - accuracy: 0.8993 - val_loss: 0.4088 - val_accuracy: 0.8650\n",
      "Epoch 77/100\n",
      "1563/1563 [==============================] - 1s 801us/step - loss: 0.2786 - accuracy: 0.8988 - val_loss: 0.4071 - val_accuracy: 0.8655\n",
      "Epoch 78/100\n",
      "1563/1563 [==============================] - 1s 781us/step - loss: 0.2786 - accuracy: 0.8984 - val_loss: 0.4157 - val_accuracy: 0.8607\n",
      "Epoch 79/100\n",
      "1563/1563 [==============================] - 1s 753us/step - loss: 0.2771 - accuracy: 0.8998 - val_loss: 0.4027 - val_accuracy: 0.8665\n",
      "Epoch 80/100\n",
      "1563/1563 [==============================] - 1s 733us/step - loss: 0.2778 - accuracy: 0.8993 - val_loss: 0.4165 - val_accuracy: 0.8620\n",
      "Epoch 81/100\n",
      "1563/1563 [==============================] - 1s 780us/step - loss: 0.2770 - accuracy: 0.9000 - val_loss: 0.4392 - val_accuracy: 0.8546\n",
      "Epoch 82/100\n",
      "1563/1563 [==============================] - 1s 753us/step - loss: 0.2765 - accuracy: 0.8999 - val_loss: 0.4107 - val_accuracy: 0.8654\n",
      "Epoch 83/100\n",
      "1563/1563 [==============================] - 1s 739us/step - loss: 0.2759 - accuracy: 0.8998 - val_loss: 0.4105 - val_accuracy: 0.8604\n",
      "Epoch 84/100\n",
      "1563/1563 [==============================] - 1s 736us/step - loss: 0.2756 - accuracy: 0.8993 - val_loss: 0.4557 - val_accuracy: 0.8462\n",
      "Epoch 85/100\n",
      "1563/1563 [==============================] - 1s 746us/step - loss: 0.2741 - accuracy: 0.9010 - val_loss: 0.4072 - val_accuracy: 0.8640\n",
      "Epoch 86/100\n",
      "1563/1563 [==============================] - 1s 738us/step - loss: 0.2730 - accuracy: 0.9007 - val_loss: 0.4138 - val_accuracy: 0.8626\n",
      "Epoch 87/100\n",
      "1563/1563 [==============================] - 1s 748us/step - loss: 0.2722 - accuracy: 0.9014 - val_loss: 0.4165 - val_accuracy: 0.8602\n",
      "Epoch 88/100\n",
      "1563/1563 [==============================] - 1s 741us/step - loss: 0.2724 - accuracy: 0.9013 - val_loss: 0.4065 - val_accuracy: 0.8673\n",
      "Epoch 89/100\n",
      "1563/1563 [==============================] - 1s 800us/step - loss: 0.2732 - accuracy: 0.9012 - val_loss: 0.4064 - val_accuracy: 0.8625\n",
      "Epoch 90/100\n",
      "1563/1563 [==============================] - 1s 762us/step - loss: 0.2726 - accuracy: 0.9006 - val_loss: 0.4212 - val_accuracy: 0.8608\n",
      "Epoch 91/100\n",
      "1563/1563 [==============================] - 1s 785us/step - loss: 0.2715 - accuracy: 0.9023 - val_loss: 0.4203 - val_accuracy: 0.8623\n",
      "Epoch 92/100\n",
      "1563/1563 [==============================] - 1s 766us/step - loss: 0.2706 - accuracy: 0.9028 - val_loss: 0.4287 - val_accuracy: 0.8612\n",
      "Epoch 93/100\n",
      "1563/1563 [==============================] - 1s 725us/step - loss: 0.2709 - accuracy: 0.9014 - val_loss: 0.4082 - val_accuracy: 0.8640\n",
      "Epoch 94/100\n",
      "1563/1563 [==============================] - 1s 748us/step - loss: 0.2697 - accuracy: 0.9030 - val_loss: 0.4225 - val_accuracy: 0.8616\n",
      "Epoch 95/100\n",
      "1563/1563 [==============================] - 1s 748us/step - loss: 0.2687 - accuracy: 0.9025 - val_loss: 0.4075 - val_accuracy: 0.8662\n",
      "Epoch 96/100\n",
      "1563/1563 [==============================] - 1s 729us/step - loss: 0.2685 - accuracy: 0.9025 - val_loss: 0.4101 - val_accuracy: 0.8655\n",
      "Epoch 97/100\n",
      "1563/1563 [==============================] - 1s 742us/step - loss: 0.2682 - accuracy: 0.9029 - val_loss: 0.4182 - val_accuracy: 0.8654\n",
      "Epoch 98/100\n",
      "1563/1563 [==============================] - 1s 760us/step - loss: 0.2686 - accuracy: 0.9017 - val_loss: 0.4314 - val_accuracy: 0.8591\n",
      "Epoch 99/100\n",
      "1563/1563 [==============================] - 1s 737us/step - loss: 0.2671 - accuracy: 0.9037 - val_loss: 0.4336 - val_accuracy: 0.8617\n",
      "Epoch 100/100\n",
      "1563/1563 [==============================] - 1s 777us/step - loss: 0.2675 - accuracy: 0.9031 - val_loss: 0.4446 - val_accuracy: 0.8553\n"
     ]
    },
    {
     "data": {
      "text/plain": [
       "<keras.callbacks.History at 0x1602b5182b0>"
      ]
     },
     "execution_count": 23,
     "metadata": {},
     "output_type": "execute_result"
    }
   ],
   "source": [
    "model.fit(X_train,y_train,\n",
    "          validation_data=(X_val,y_val),\n",
    "          epochs=100)"
   ]
  },
  {
   "cell_type": "code",
   "execution_count": 25,
   "id": "ce8560a5",
   "metadata": {},
   "outputs": [],
   "source": [
    "model.compile(optimizer=\"rmsprop\",\n",
    "              loss = 'categorical_crossentropy',\n",
    "              metrics=['accuracy'])"
   ]
  },
  {
   "cell_type": "code",
   "execution_count": null,
   "id": "a71b0ad3",
   "metadata": {},
   "outputs": [
    {
     "name": "stdout",
     "output_type": "stream",
     "text": [
      "Epoch 1/100\n",
      "1563/1563 [==============================] - 2s 847us/step - loss: 0.3147 - accuracy: 0.8848 - val_loss: 0.4460 - val_accuracy: 0.8569\n",
      "Epoch 2/100\n",
      "1563/1563 [==============================] - 1s 790us/step - loss: 0.3150 - accuracy: 0.8872 - val_loss: 0.4721 - val_accuracy: 0.8574\n",
      "Epoch 3/100\n",
      "1563/1563 [==============================] - 1s 793us/step - loss: 0.3155 - accuracy: 0.8855 - val_loss: 0.4395 - val_accuracy: 0.8596\n",
      "Epoch 4/100\n",
      "1563/1563 [==============================] - 1s 811us/step - loss: 0.3120 - accuracy: 0.8874 - val_loss: 0.4418 - val_accuracy: 0.8569\n",
      "Epoch 5/100\n",
      "1563/1563 [==============================] - 1s 797us/step - loss: 0.3095 - accuracy: 0.8884 - val_loss: 0.4346 - val_accuracy: 0.8617\n",
      "Epoch 6/100\n",
      "1563/1563 [==============================] - 1s 803us/step - loss: 0.3076 - accuracy: 0.8896 - val_loss: 0.4358 - val_accuracy: 0.8634\n",
      "Epoch 7/100\n",
      "1563/1563 [==============================] - 1s 861us/step - loss: 0.3062 - accuracy: 0.8901 - val_loss: 0.4451 - val_accuracy: 0.8591\n",
      "Epoch 8/100\n",
      "1563/1563 [==============================] - 1s 899us/step - loss: 0.3045 - accuracy: 0.8904 - val_loss: 0.4469 - val_accuracy: 0.8574\n",
      "Epoch 9/100\n",
      "1563/1563 [==============================] - 1s 857us/step - loss: 0.3008 - accuracy: 0.8925 - val_loss: 0.4302 - val_accuracy: 0.8667\n",
      "Epoch 10/100\n",
      "1563/1563 [==============================] - 1s 875us/step - loss: 0.3019 - accuracy: 0.8908 - val_loss: 0.4311 - val_accuracy: 0.8684\n",
      "Epoch 11/100\n",
      "1563/1563 [==============================] - 1s 865us/step - loss: 0.2973 - accuracy: 0.8948 - val_loss: 0.5212 - val_accuracy: 0.8431\n",
      "Epoch 12/100\n",
      "1563/1563 [==============================] - 1s 760us/step - loss: 0.2981 - accuracy: 0.8939 - val_loss: 0.4320 - val_accuracy: 0.8669\n",
      "Epoch 13/100\n",
      "1563/1563 [==============================] - 1s 793us/step - loss: 0.2962 - accuracy: 0.8940 - val_loss: 0.4637 - val_accuracy: 0.8591\n",
      "Epoch 14/100\n",
      "1563/1563 [==============================] - 1s 754us/step - loss: 0.2931 - accuracy: 0.8961 - val_loss: 0.4859 - val_accuracy: 0.8469\n",
      "Epoch 15/100\n",
      "1563/1563 [==============================] - 1s 743us/step - loss: 0.2941 - accuracy: 0.8940 - val_loss: 0.4374 - val_accuracy: 0.8691\n",
      "Epoch 16/100\n",
      "1563/1563 [==============================] - 1s 840us/step - loss: 0.2925 - accuracy: 0.8962 - val_loss: 0.4532 - val_accuracy: 0.8589\n",
      "Epoch 17/100\n",
      "1563/1563 [==============================] - 1s 805us/step - loss: 0.2895 - accuracy: 0.8959 - val_loss: 0.4606 - val_accuracy: 0.8621\n",
      "Epoch 18/100\n",
      "1563/1563 [==============================] - 1s 775us/step - loss: 0.2904 - accuracy: 0.8955 - val_loss: 0.4446 - val_accuracy: 0.8632\n",
      "Epoch 19/100\n",
      "1563/1563 [==============================] - 2s 1ms/step - loss: 0.2868 - accuracy: 0.8956 - val_loss: 0.4707 - val_accuracy: 0.8596\n",
      "Epoch 20/100\n",
      "1563/1563 [==============================] - 2s 1ms/step - loss: 0.2882 - accuracy: 0.8957 - val_loss: 0.4487 - val_accuracy: 0.8644\n",
      "Epoch 21/100\n",
      "1563/1563 [==============================] - 2s 1ms/step - loss: 0.2849 - accuracy: 0.8982 - val_loss: 0.4437 - val_accuracy: 0.8674\n",
      "Epoch 22/100\n",
      "1563/1563 [==============================] - 2s 1ms/step - loss: 0.2840 - accuracy: 0.8983 - val_loss: 0.4377 - val_accuracy: 0.8712\n",
      "Epoch 23/100\n",
      "1563/1563 [==============================] - 2s 2ms/step - loss: 0.2843 - accuracy: 0.8988 - val_loss: 0.4286 - val_accuracy: 0.8714\n",
      "Epoch 24/100\n",
      "1563/1563 [==============================] - 2s 1ms/step - loss: 0.2835 - accuracy: 0.8989 - val_loss: 0.4493 - val_accuracy: 0.8704\n",
      "Epoch 25/100\n",
      "1563/1563 [==============================] - 1s 909us/step - loss: 0.2808 - accuracy: 0.8987 - val_loss: 0.4477 - val_accuracy: 0.8640\n",
      "Epoch 26/100\n",
      "1563/1563 [==============================] - 1s 872us/step - loss: 0.2830 - accuracy: 0.8995 - val_loss: 0.4705 - val_accuracy: 0.8653\n",
      "Epoch 27/100\n",
      "1563/1563 [==============================] - 1s 821us/step - loss: 0.2803 - accuracy: 0.8993 - val_loss: 0.4383 - val_accuracy: 0.8715\n",
      "Epoch 28/100\n",
      "1563/1563 [==============================] - 1s 825us/step - loss: 0.2804 - accuracy: 0.8992 - val_loss: 0.4711 - val_accuracy: 0.8610\n",
      "Epoch 29/100\n",
      "1563/1563 [==============================] - 1s 825us/step - loss: 0.2785 - accuracy: 0.9003 - val_loss: 0.4797 - val_accuracy: 0.8583\n",
      "Epoch 30/100\n",
      "1563/1563 [==============================] - 1s 834us/step - loss: 0.2789 - accuracy: 0.8994 - val_loss: 0.4847 - val_accuracy: 0.8607\n",
      "Epoch 31/100\n",
      "1563/1563 [==============================] - 1s 822us/step - loss: 0.2756 - accuracy: 0.9019 - val_loss: 0.4633 - val_accuracy: 0.8628\n",
      "Epoch 32/100\n",
      "1563/1563 [==============================] - 1s 882us/step - loss: 0.2769 - accuracy: 0.9008 - val_loss: 0.4863 - val_accuracy: 0.8611\n",
      "Epoch 33/100\n",
      "1563/1563 [==============================] - 1s 852us/step - loss: 0.2754 - accuracy: 0.9025 - val_loss: 0.4621 - val_accuracy: 0.8676\n",
      "Epoch 34/100\n",
      "1563/1563 [==============================] - 1s 824us/step - loss: 0.2764 - accuracy: 0.9018 - val_loss: 0.4905 - val_accuracy: 0.8627\n",
      "Epoch 35/100\n",
      "1563/1563 [==============================] - 1s 822us/step - loss: 0.2756 - accuracy: 0.9027 - val_loss: 0.4486 - val_accuracy: 0.8688\n",
      "Epoch 36/100\n",
      "1563/1563 [==============================] - 1s 821us/step - loss: 0.2747 - accuracy: 0.9023 - val_loss: 0.4648 - val_accuracy: 0.8689\n",
      "Epoch 37/100\n",
      "1563/1563 [==============================] - 1s 809us/step - loss: 0.2744 - accuracy: 0.9024 - val_loss: 0.4631 - val_accuracy: 0.8634\n",
      "Epoch 38/100\n",
      "1563/1563 [==============================] - 1s 820us/step - loss: 0.2741 - accuracy: 0.9020 - val_loss: 0.4755 - val_accuracy: 0.8669\n",
      "Epoch 39/100\n",
      "1563/1563 [==============================] - 1s 870us/step - loss: 0.2739 - accuracy: 0.9025 - val_loss: 0.4559 - val_accuracy: 0.8668\n",
      "Epoch 40/100\n",
      "1563/1563 [==============================] - 1s 846us/step - loss: 0.2744 - accuracy: 0.9032 - val_loss: 0.4916 - val_accuracy: 0.8544\n",
      "Epoch 41/100\n",
      "1563/1563 [==============================] - 1s 818us/step - loss: 0.2720 - accuracy: 0.9028 - val_loss: 0.4889 - val_accuracy: 0.8620\n",
      "Epoch 42/100\n",
      "1563/1563 [==============================] - 1s 833us/step - loss: 0.2724 - accuracy: 0.9015 - val_loss: 0.5016 - val_accuracy: 0.8579\n",
      "Epoch 43/100\n",
      "1563/1563 [==============================] - 1s 820us/step - loss: 0.2708 - accuracy: 0.9028 - val_loss: 0.4655 - val_accuracy: 0.8679\n",
      "Epoch 44/100\n",
      "1563/1563 [==============================] - 1s 824us/step - loss: 0.2680 - accuracy: 0.9043 - val_loss: 0.4846 - val_accuracy: 0.8633\n",
      "Epoch 45/100\n",
      "1563/1563 [==============================] - 1s 809us/step - loss: 0.2702 - accuracy: 0.9032 - val_loss: 0.4821 - val_accuracy: 0.8665\n",
      "Epoch 46/100\n",
      "1563/1563 [==============================] - 1s 814us/step - loss: 0.2696 - accuracy: 0.9037 - val_loss: 0.4891 - val_accuracy: 0.8575\n",
      "Epoch 47/100\n",
      "1563/1563 [==============================] - 1s 832us/step - loss: 0.2709 - accuracy: 0.9044 - val_loss: 0.5050 - val_accuracy: 0.8636\n",
      "Epoch 48/100\n",
      "1563/1563 [==============================] - 1s 802us/step - loss: 0.2701 - accuracy: 0.9031 - val_loss: 0.4905 - val_accuracy: 0.8630\n",
      "Epoch 49/100\n",
      "1563/1563 [==============================] - 1s 803us/step - loss: 0.2717 - accuracy: 0.9028 - val_loss: 0.5155 - val_accuracy: 0.8606\n",
      "Epoch 50/100\n",
      "1563/1563 [==============================] - 1s 812us/step - loss: 0.2690 - accuracy: 0.9041 - val_loss: 0.4780 - val_accuracy: 0.8665\n",
      "Epoch 51/100\n",
      "1563/1563 [==============================] - 1s 816us/step - loss: 0.2692 - accuracy: 0.9039 - val_loss: 0.4737 - val_accuracy: 0.8667\n",
      "Epoch 52/100\n",
      "1563/1563 [==============================] - 1s 812us/step - loss: 0.2668 - accuracy: 0.9051 - val_loss: 0.5203 - val_accuracy: 0.8536\n",
      "Epoch 53/100\n",
      "1563/1563 [==============================] - 1s 822us/step - loss: 0.2704 - accuracy: 0.9046 - val_loss: 0.5097 - val_accuracy: 0.8585\n",
      "Epoch 54/100\n",
      "1563/1563 [==============================] - 1s 875us/step - loss: 0.2681 - accuracy: 0.9024 - val_loss: 0.4964 - val_accuracy: 0.8662\n",
      "Epoch 55/100\n",
      "1563/1563 [==============================] - 1s 853us/step - loss: 0.2686 - accuracy: 0.9043 - val_loss: 0.5235 - val_accuracy: 0.8577\n",
      "Epoch 56/100\n"
     ]
    },
    {
     "name": "stdout",
     "output_type": "stream",
     "text": [
      "1563/1563 [==============================] - 1s 825us/step - loss: 0.2666 - accuracy: 0.9045 - val_loss: 0.5195 - val_accuracy: 0.8493\n",
      "Epoch 57/100\n",
      "1563/1563 [==============================] - 1s 813us/step - loss: 0.2697 - accuracy: 0.9047 - val_loss: 0.5046 - val_accuracy: 0.8601\n",
      "Epoch 58/100\n",
      "1563/1563 [==============================] - 1s 817us/step - loss: 0.2667 - accuracy: 0.9056 - val_loss: 0.5367 - val_accuracy: 0.8554\n",
      "Epoch 59/100\n",
      "1563/1563 [==============================] - 1s 819us/step - loss: 0.2667 - accuracy: 0.9053 - val_loss: 0.5274 - val_accuracy: 0.8619\n",
      "Epoch 60/100\n",
      "1563/1563 [==============================] - 1s 813us/step - loss: 0.2638 - accuracy: 0.9063 - val_loss: 0.4890 - val_accuracy: 0.8643\n",
      "Epoch 61/100\n",
      "1563/1563 [==============================] - 1s 819us/step - loss: 0.2661 - accuracy: 0.9054 - val_loss: 0.4900 - val_accuracy: 0.8655\n",
      "Epoch 62/100\n",
      "1563/1563 [==============================] - 1s 799us/step - loss: 0.2654 - accuracy: 0.9056 - val_loss: 0.5063 - val_accuracy: 0.8595\n",
      "Epoch 63/100\n",
      "1563/1563 [==============================] - 1s 863us/step - loss: 0.2672 - accuracy: 0.9052 - val_loss: 0.5050 - val_accuracy: 0.8644\n",
      "Epoch 64/100\n",
      "1563/1563 [==============================] - 1s 799us/step - loss: 0.2673 - accuracy: 0.9053 - val_loss: 0.5082 - val_accuracy: 0.8612\n",
      "Epoch 65/100\n",
      "1563/1563 [==============================] - 1s 802us/step - loss: 0.2674 - accuracy: 0.9054 - val_loss: 0.5022 - val_accuracy: 0.8606\n",
      "Epoch 66/100\n",
      "1563/1563 [==============================] - 1s 801us/step - loss: 0.2684 - accuracy: 0.9059 - val_loss: 0.5520 - val_accuracy: 0.8614\n",
      "Epoch 67/100\n",
      "1563/1563 [==============================] - 1s 794us/step - loss: 0.2680 - accuracy: 0.9062 - val_loss: 0.4979 - val_accuracy: 0.8616\n",
      "Epoch 68/100\n",
      "1563/1563 [==============================] - 1s 801us/step - loss: 0.2656 - accuracy: 0.9063 - val_loss: 0.5190 - val_accuracy: 0.8619\n",
      "Epoch 69/100\n",
      "1563/1563 [==============================] - 1s 785us/step - loss: 0.2659 - accuracy: 0.9057 - val_loss: 0.5321 - val_accuracy: 0.8657\n",
      "Epoch 70/100\n",
      "1563/1563 [==============================] - 1s 801us/step - loss: 0.2668 - accuracy: 0.9046 - val_loss: 0.5371 - val_accuracy: 0.8612\n",
      "Epoch 71/100\n",
      "1563/1563 [==============================] - 1s 792us/step - loss: 0.2670 - accuracy: 0.9065 - val_loss: 0.5520 - val_accuracy: 0.8509\n",
      "Epoch 72/100\n",
      "1563/1563 [==============================] - 1s 798us/step - loss: 0.2675 - accuracy: 0.9066 - val_loss: 0.5318 - val_accuracy: 0.8586\n",
      "Epoch 73/100\n",
      "1563/1563 [==============================] - 1s 801us/step - loss: 0.2685 - accuracy: 0.9055 - val_loss: 0.5053 - val_accuracy: 0.8573\n",
      "Epoch 74/100\n",
      "1563/1563 [==============================] - 1s 846us/step - loss: 0.2676 - accuracy: 0.9058 - val_loss: 0.5603 - val_accuracy: 0.8517\n",
      "Epoch 75/100\n",
      "1563/1563 [==============================] - 1s 855us/step - loss: 0.2695 - accuracy: 0.9041 - val_loss: 0.5270 - val_accuracy: 0.8649\n",
      "Epoch 76/100\n",
      "1563/1563 [==============================] - 1s 809us/step - loss: 0.2656 - accuracy: 0.9066 - val_loss: 0.5122 - val_accuracy: 0.8599\n",
      "Epoch 77/100\n",
      "1563/1563 [==============================] - 1s 802us/step - loss: 0.2666 - accuracy: 0.9069 - val_loss: 0.5560 - val_accuracy: 0.8616\n",
      "Epoch 78/100\n",
      "1563/1563 [==============================] - 1s 814us/step - loss: 0.2648 - accuracy: 0.9062 - val_loss: 0.5392 - val_accuracy: 0.8608\n",
      "Epoch 79/100\n",
      "1563/1563 [==============================] - 1s 826us/step - loss: 0.2660 - accuracy: 0.9060 - val_loss: 0.5630 - val_accuracy: 0.8632\n",
      "Epoch 80/100\n",
      "1563/1563 [==============================] - 1s 820us/step - loss: 0.2658 - accuracy: 0.9064 - val_loss: 0.5401 - val_accuracy: 0.8629\n",
      "Epoch 81/100\n",
      "1563/1563 [==============================] - 1s 820us/step - loss: 0.2656 - accuracy: 0.9066 - val_loss: 0.5883 - val_accuracy: 0.8563\n",
      "Epoch 82/100\n",
      "1563/1563 [==============================] - 1s 801us/step - loss: 0.2670 - accuracy: 0.9067 - val_loss: 0.5285 - val_accuracy: 0.8587\n",
      "Epoch 83/100\n",
      "1563/1563 [==============================] - 1s 812us/step - loss: 0.2673 - accuracy: 0.9067 - val_loss: 0.6039 - val_accuracy: 0.8372\n",
      "Epoch 84/100\n",
      "1426/1563 [==========================>...] - ETA: 0s - loss: 0.2679 - accuracy: 0.9055"
     ]
    }
   ],
   "source": [
    "model.fit(X_train,y_train,\n",
    "          validation_data=(X_val,y_val),\n",
    "          epochs=100)"
   ]
  },
  {
   "cell_type": "code",
   "execution_count": null,
   "id": "bcf0bdc6",
   "metadata": {},
   "outputs": [],
   "source": []
  }
 ],
 "metadata": {
  "kernelspec": {
   "display_name": "Python 3 (ipykernel)",
   "language": "python",
   "name": "python3"
  },
  "language_info": {
   "codemirror_mode": {
    "name": "ipython",
    "version": 3
   },
   "file_extension": ".py",
   "mimetype": "text/x-python",
   "name": "python",
   "nbconvert_exporter": "python",
   "pygments_lexer": "ipython3",
   "version": "3.9.7"
  }
 },
 "nbformat": 4,
 "nbformat_minor": 5
}
